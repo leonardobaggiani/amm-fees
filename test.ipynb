{
 "cells": [
  {
   "cell_type": "code",
   "execution_count": 1,
   "metadata": {},
   "outputs": [],
   "source": [
    "import numpy as np\n",
    "from scipy.linalg import expm\n",
    "import math\n",
    "from tqdm import tqdm\n",
    "from scipy.integrate import solve_ivp\n",
    "from scipy.sparse.linalg import expm_multiply\n",
    "import torch\n",
    "from time import time"
   ]
  },
  {
   "cell_type": "code",
   "execution_count": 2,
   "metadata": {},
   "outputs": [],
   "source": [
    "def level_fct(y): # We assume CPMM\n",
    "        return (10**8) / y"
   ]
  },
  {
   "cell_type": "code",
   "execution_count": 3,
   "metadata": {},
   "outputs": [],
   "source": [
    "def _calculate_matrix_t(y_grid, St):\n",
    "    nsims, Nt_plus1 = St.shape\n",
    "    ny = len(y_grid)\n",
    "    A_matrix = np.zeros((ny, ny, nsims, Nt_plus1))\n",
    "    \n",
    "    for i in range(ny):\n",
    "        quantity = y_grid[i]\n",
    "        \n",
    "        if i < ny - 1:\n",
    "            quantity_P1 = y_grid[i+1]\n",
    "            diff = 2 * (level_fct(quantity) - level_fct(quantity_P1))\n",
    "            A_matrix[i, i+1] = 100 * np.exp(-St - 1 + diff)\n",
    "        \n",
    "        if i > 0:\n",
    "            quantity_M1 = y_grid[i-1]\n",
    "            diff = -2 * (level_fct(quantity_M1) - level_fct(quantity))\n",
    "            A_matrix[i, i-1] = 100 * np.exp(St - 1 + diff)\n",
    "    \n",
    "    return A_matrix"
   ]
  },
  {
   "cell_type": "code",
   "execution_count": 4,
   "metadata": {},
   "outputs": [],
   "source": [
    "def _calculate_omega_pytorcht(y_grid, t, St):\n",
    "    import numpy as np\n",
    "    import torch\n",
    "    from time import time\n",
    "\n",
    "    A_np = _calculate_matrix_t(y_grid, St)  # shape: (dim, dim, nsims, Nt+1)\n",
    "\n",
    "    # Move axes: shape (nsims, Nt+1, dim, dim)\n",
    "    A_batch = np.moveaxis(A_np, [2, 3], [0, 1])\n",
    "\n",
    "    # Convert to torch tensor\n",
    "    A = torch.from_numpy(A_batch).double()  # shape: (nsims, Nt+1, dim, dim)\n",
    "    nsims, Nt_plus1, dim, _ = A.shape\n",
    "\n",
    "    dt = 1 - t  # assumed scalar; update here if this varies\n",
    "\n",
    "    vec = torch.ones((dim, 1), dtype=torch.double)\n",
    "\n",
    "    omega = torch.zeros((nsims, Nt_plus1, dim), dtype=torch.double)\n",
    "\n",
    "    init_time = time()\n",
    "    for i in range(nsims):\n",
    "        for j in range(Nt_plus1):\n",
    "            Aij = A[i, j] * dt  # shape: (dim, dim)\n",
    "            try:\n",
    "                expAij = torch.matrix_exp(Aij)  # shape: (dim, dim)\n",
    "                omega[i, j] = (expAij @ vec).squeeze(-1)\n",
    "            except RuntimeError as e:\n",
    "                print(f\"Matrix exp failed at sim {i}, t {j}: {e}\")\n",
    "                omega[i, j] = torch.nan\n",
    "    end_time = time()\n",
    "\n",
    "    print(f\"Total execution time: {end_time - init_time}\")\n",
    "    return omega.numpy()"
   ]
  },
  {
   "cell_type": "code",
   "execution_count": 5,
   "metadata": {},
   "outputs": [],
   "source": [
    "y_grid = np.array([990 + i*0.5 for i in range(0,41)])"
   ]
  },
  {
   "cell_type": "code",
   "execution_count": 6,
   "metadata": {},
   "outputs": [],
   "source": [
    "nsims = 1_000\n",
    "Nt = 1000\n",
    "timesteps = np.linspace(0, 1, Nt+1)"
   ]
  },
  {
   "cell_type": "code",
   "execution_count": 7,
   "metadata": {},
   "outputs": [],
   "source": [
    "dW = np.random.normal(0, np.sqrt(1/Nt), (nsims, Nt))\n",
    "W = np.concatenate([np.zeros((nsims, 1)), np.cumsum(dW, axis=1)], axis=1)  # shape (nsims, Nt+1)\n",
    "St = 100 + 0.2 * W  # shape (nsims, Nt+1)"
   ]
  },
  {
   "cell_type": "code",
   "execution_count": 8,
   "metadata": {},
   "outputs": [
    {
     "ename": "",
     "evalue": "",
     "output_type": "error",
     "traceback": [
      "\u001b[1;31mCannot execute code, session has been disposed. Please try restarting the Kernel."
     ]
    },
    {
     "ename": "",
     "evalue": "",
     "output_type": "error",
     "traceback": [
      "\u001b[1;31mThe Kernel crashed while executing code in the the current cell or a previous cell. Please review the code in the cell(s) to identify a possible cause of the failure. Click <a href='https://aka.ms/vscodeJupyterKernelCrash'>here</a> for more info. View Jupyter <a href='command:jupyter.viewOutput'>log</a> for further details."
     ]
    }
   ],
   "source": [
    "_calculate_omega_t(y_grid,0.5,St)"
   ]
  }
 ],
 "metadata": {
  "kernelspec": {
   "display_name": ".venv",
   "language": "python",
   "name": "python3"
  },
  "language_info": {
   "codemirror_mode": {
    "name": "ipython",
    "version": 3
   },
   "file_extension": ".py",
   "mimetype": "text/x-python",
   "name": "python",
   "nbconvert_exporter": "python",
   "pygments_lexer": "ipython3",
   "version": "3.12.0"
  },
  "orig_nbformat": 4
 },
 "nbformat": 4,
 "nbformat_minor": 2
}
