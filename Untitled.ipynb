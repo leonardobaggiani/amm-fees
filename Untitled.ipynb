{
 "cells": [
  {
   "cell_type": "code",
   "execution_count": 1,
   "id": "6df485be-ed39-48dd-a2b5-37720519080b",
   "metadata": {},
   "outputs": [],
   "source": [
    "import numpy as np\n",
    "from scipy.linalg import expm\n",
    "import matplotlib as mpl\n",
    "import matplotlib.pyplot as plt\n",
    "import matplotlib.pylab as pylab\n",
    "import pandas as pd\n",
    "from labellines import labelLine, labelLines\n",
    "from matplotlib.pyplot import cm\n",
    "from importlib import reload\n",
    "\n",
    "import src.utils as utils"
   ]
  },
  {
   "cell_type": "code",
   "execution_count": 2,
   "id": "5a85da4e-5d73-460f-afdd-b1f40c0d5d9a",
   "metadata": {},
   "outputs": [],
   "source": [
    "reload(utils)\n",
    "import matplotlib.pylab as pylab\n",
    "params = {'legend.fontsize': 'x-large',\n",
    "          'figure.figsize': (8, 6),\n",
    "         'axes.labelsize': 'x-large',\n",
    "         'axes.titlesize':'x-large',\n",
    "         'xtick.labelsize':'x-large',\n",
    "         'ytick.labelsize':'x-large'}\n",
    "pylab.rcParams.update(params)\n",
    "%config InlineBackend.figure_format = \"retina\"\n",
    "plt.rc(\"text\", usetex = True)\n",
    "plt.rc(\"text.latex\", preamble=r'\\usepackage{amsmath,amsfonts}')\n",
    "fs = 21\n",
    "dpi = 300"
   ]
  },
  {
   "cell_type": "code",
   "execution_count": 3,
   "id": "f6bd1605-e1cc-4a4d-821d-bc3c6639ac1e",
   "metadata": {},
   "outputs": [],
   "source": [
    "depth = 100*1_000*1_000.\n",
    "y_0 = 1_000"
   ]
  },
  {
   "cell_type": "code",
   "execution_count": 4,
   "id": "80d5d4e7-6743-414e-95b9-605ea7c3dbb5",
   "metadata": {},
   "outputs": [],
   "source": [
    "y_grid = np.array([np.sqrt((depth) / (depth / ((y_0) ** 2) - i * 0.1)) for i in range(-20, 21)])"
   ]
  },
  {
   "cell_type": "code",
   "execution_count": 5,
   "id": "d9a46178-31a2-41bd-bd78-d3097995daf1",
   "metadata": {},
   "outputs": [],
   "source": [
    "import pickle\n",
    "\n",
    "with open('src/params.pkl', 'rb') as f:\n",
    "    params = pickle.load(f)"
   ]
  },
  {
   "cell_type": "code",
   "execution_count": 6,
   "id": "b0152633-ca28-4104-b2b1-ae9cdd8ecf1d",
   "metadata": {},
   "outputs": [],
   "source": [
    "AMM = utils.first_approximation(**params)"
   ]
  },
  {
   "cell_type": "code",
   "execution_count": 14,
   "id": "e881b1ed-2417-4563-93f5-39198268385e",
   "metadata": {},
   "outputs": [],
   "source": [
    "y_grid = np.array([990 + i*0.5 for i in range(0,41)])\n",
    "params[\"y_grid\"] = y_grid\n",
    "params[\"int_buy\"] = 150\n",
    "params[\"int_sell\"] = 150\n",
    "params[\"kappa\"]=2"
   ]
  },
  {
   "cell_type": "code",
   "execution_count": 18,
   "id": "ec38bacd-585d-4565-9a06-d6a9d07f8c89",
   "metadata": {},
   "outputs": [
    {
     "name": "stderr",
     "output_type": "stream",
     "text": [
      "1001it [00:08, 116.52it/s]\n"
     ]
    }
   ],
   "source": [
    "test = utils.new(**params)"
   ]
  },
  {
   "cell_type": "code",
   "execution_count": 19,
   "id": "1a3b45ec-a28b-4564-a4e7-6b8130f6553d",
   "metadata": {},
   "outputs": [
    {
     "name": "stderr",
     "output_type": "stream",
     "text": [
      "Simulating PnL: 100%|███████████████████████| 1000/1000 [00:55<00:00, 18.17it/s]\n"
     ]
    }
   ],
   "source": [
    "(cash_FA, _, n_sell_order_FA, n_buy_order_FA, traj_y_FA)= test.simulate_PnL(nsims = 100_000, Nt = 1000, seed= 123,  strategy = \"First Approximation\", return_trajectory=True)"
   ]
  },
  {
   "cell_type": "code",
   "execution_count": 20,
   "id": "2a6e343a-5416-4b36-a718-a326183a000d",
   "metadata": {},
   "outputs": [
    {
     "data": {
      "text/plain": [
       "array([53.73534575, 51.32967939, 57.29190912, ..., 48.18812138,\n",
       "       50.35516366, 52.25355883])"
      ]
     },
     "execution_count": 20,
     "metadata": {},
     "output_type": "execute_result"
    }
   ],
   "source": [
    "cash_FA"
   ]
  },
  {
   "cell_type": "code",
   "execution_count": 21,
   "id": "3fc33bcc-9302-46e8-8e35-1a385b9ec95c",
   "metadata": {},
   "outputs": [
    {
     "data": {
      "text/plain": [
       "53.02388390547435"
      ]
     },
     "execution_count": 21,
     "metadata": {},
     "output_type": "execute_result"
    }
   ],
   "source": [
    "np.mean(cash_FA)"
   ]
  },
  {
   "cell_type": "code",
   "execution_count": null,
   "id": "fb8de6ef-7ca3-4ae0-b935-5b1fe69c82d5",
   "metadata": {},
   "outputs": [],
   "source": []
  }
 ],
 "metadata": {
  "kernelspec": {
   "display_name": "Python 3 (ipykernel)",
   "language": "python",
   "name": "python3"
  },
  "language_info": {
   "codemirror_mode": {
    "name": "ipython",
    "version": 3
   },
   "file_extension": ".py",
   "mimetype": "text/x-python",
   "name": "python",
   "nbconvert_exporter": "python",
   "pygments_lexer": "ipython3",
   "version": "3.10.8"
  }
 },
 "nbformat": 4,
 "nbformat_minor": 5
}
